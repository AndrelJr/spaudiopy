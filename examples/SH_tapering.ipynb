{
 "cells": [
  {
   "cell_type": "markdown",
   "metadata": {},
   "source": [
    "Examples for:\n",
    "Hold, C., Gamper, H., Pulkki, V., Raghuvanshi, N., & Tashev, I. J. (2019).\n",
    "Improving Binaural Ambisonics Decoding by Spherical Harmonics Domain\n",
    "Tapering and Coloration Compensation.\n",
    "In IEEE International Conference on Acoustics, Speech and Signal Processing."
   ]
  },
  {
   "cell_type": "code",
   "execution_count": null,
   "metadata": {},
   "outputs": [],
   "source": [
    "import numpy as np\n",
    "from scipy.signal import firwin2\n",
    "from spaudiopy import sph, utils, plots\n",
    "from spaudiopy import process as pcs"
   ]
  },
  {
   "cell_type": "code",
   "execution_count": null,
   "metadata": {},
   "outputs": [],
   "source": [
    "# sampling rate (Hz)\n",
    "fs = 48000\n",
    "# evaluated frequencies, 1000 points\n",
    "f = np.linspace(0, fs / 2, 1000)\n",
    "# target spherical harmonics order N (>= 3)\n",
    "N = 5"
   ]
  },
  {
   "cell_type": "code",
   "execution_count": null,
   "metadata": {},
   "outputs": [],
   "source": [
    "# tapering windows\n",
    "w_Hann = pcs.half_sided_Hann(N)\n",
    "w_rE = sph.max_rE_weights(N)\n",
    "# Choose here:\n",
    "w_taper = w_Hann"
   ]
  },
  {
   "cell_type": "code",
   "execution_count": null,
   "metadata": {},
   "outputs": [],
   "source": [
    "# %% Spatial dirac in SH domain\n",
    "dirac_azi = np.deg2rad(90)\n",
    "dirac_colat = np.deg2rad(90)\n",
    "\n",
    "# cross section\n",
    "azi = np.linspace(0, 2 * np.pi, 720, endpoint=True)\n",
    "colat = np.pi / 2 * np.ones_like(azi)\n",
    "\n",
    "# Bandlimited Dirac pulse\n",
    "dirac_untapered = 4 * np.pi / (N + 1) ** 2 * \\\n",
    "                  sph.bandlimited_dirac(N, azi - dirac_azi)\n",
    "dirac_tapered = 4 * np.pi / (N + 1) ** 2 * \\\n",
    "                sph.bandlimited_dirac(N, azi - dirac_azi, w_n=w_taper)\n",
    "plots.polar(azi, dirac_untapered, title='Dirac untapered')\n",
    "plots.polar(azi, dirac_tapered, title='Dirac tapered')"
   ]
  },
  {
   "cell_type": "code",
   "execution_count": null,
   "metadata": {},
   "outputs": [],
   "source": [
    "# Coloration compensation of windowing\n",
    "compensation_untapered = sph.binaural_coloration_compensation(N, f)\n",
    "compensation_tapered = sph.binaural_coloration_compensation(N, f,\n",
    "                                                            w_taper=w_taper)\n",
    "compensation_tapered_lim = pcs.gain_clipping(compensation_tapered,\n",
    "                                             utils.from_db(12))\n",
    "# Get an FIR filter\n",
    "ntaps = 128 + 1\n",
    "assert (ntaps % 2), \"Does not produce uneven number of filter taps.\"\n",
    "filter_taps_untapered = firwin2(ntaps, f / (fs // 2), compensation_untapered)\n",
    "filter_taps_tapered = firwin2(ntaps, f / (fs // 2), compensation_tapered)\n",
    "filter_taps_tapered_lim = firwin2(ntaps, f / (fs // 2),\n",
    "                                  compensation_tapered_lim)\n",
    "# Now you can save the filter taps, e.g. as a wav file...\n",
    "\n",
    "# Plot their spectra\n",
    "plots.spectrum([filter_taps_untapered, filter_taps_tapered,\n",
    "                filter_taps_tapered_lim], fs, scale_mag=True,\n",
    "               title='Coloration Equalization',\n",
    "               labels=['untapered', 'tapered', 'tapered + soft clip'])"
   ]
  },
  {
   "cell_type": "code",
   "execution_count": null,
   "metadata": {},
   "outputs": [],
   "source": []
  }
 ],
 "metadata": {
  "kernelspec": {
   "display_name": "Python 3",
   "language": "python",
   "name": "python3"
  },
  "language_info": {
   "codemirror_mode": {
    "name": "ipython",
    "version": 3
   },
   "file_extension": ".py",
   "mimetype": "text/x-python",
   "name": "python",
   "nbconvert_exporter": "python",
   "pygments_lexer": "ipython3",
   "version": "3.7.7"
  }
 },
 "nbformat": 4,
 "nbformat_minor": 4
}
